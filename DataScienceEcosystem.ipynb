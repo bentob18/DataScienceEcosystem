{
 "cells": [
  {
   "cell_type": "markdown",
   "id": "b0ad7b86",
   "metadata": {},
   "source": [
    "# Data Science Tools and Ecosystem"
   ]
  },
  {
   "cell_type": "markdown",
   "id": "80d1cf1e",
   "metadata": {},
   "source": [
    "## Introduction\n",
    "\n",
    "In this notebook, Data Science Tools and Ecosystem are summarized."
   ]
  },
  {
   "cell_type": "markdown",
   "id": "d56f29f3",
   "metadata": {},
   "source": [
    "**Objectives:**\n",
    "\n",
    "- List popular languages for Data Science\n",
    "- Understand key Data Science libraries\n",
    "- Become familiar with common Data Science tools\n",
    "- Practice creating markdown and code cells in Jupyter Notebook\n",
    "- Learn to share Jupyter Notebook via GitHub"
   ]
  },
  {
   "cell_type": "markdown",
   "id": "f7c9e8e3",
   "metadata": {},
   "source": [
    "## Data Science Languages\n",
    "Some of the popular languages that Data Scientists use are:\n",
    "1. Python\n",
    "2. R\n",
    "3. Julia\n",
    "4. SQL"
   ]
  },
  {
   "cell_type": "markdown",
   "id": "4895bb96",
   "metadata": {},
   "source": [
    "## Data Science Libraries\n",
    "Some of the commonly used libraries used by Data Scientists include:\n",
    "\n",
    "1. NumPy\n",
    "2. Pandas\n",
    "3. Scikit-learn\n",
    "4. TensorFlow\n",
    "5. Matplotlib"
   ]
  },
  {
   "cell_type": "markdown",
   "id": "08c86b07",
   "metadata": {},
   "source": [
    "## Data Science Tools\n",
    "\n",
    "| Tool | Type | Description |\n",
    "|------|------|-------------|\n",
    "| Jupyter Notebook | IDE | Interactive development environment for creating notebooks |\n",
    "| Anaconda | Distribution | A distribution of Python and R for scientific computing |\n",
    "| Git | Version Control | A distributed version control system for tracking changes in source code |\n",
    "| GitHub | Platform | A web-based platform for version control using Git |\n"
   ]
  },
  {
   "cell_type": "markdown",
   "id": "2cfce077",
   "metadata": {},
   "source": [
    "## Arithmetic Expression Examples\n",
    "Below are a few examples of evaluating arithmetic expressions in Python:\n",
    "\n",
    "1. Addition: `a + b`\n",
    "2. Subtraction: `a - b`\n",
    "3. Multiplication: `a * b`\n",
    "4. Division: `a / b`"
   ]
  },
  {
   "cell_type": "code",
   "execution_count": 5,
   "id": "ee964a2a",
   "metadata": {},
   "outputs": [
    {
     "data": {
      "text/plain": [
       "17"
      ]
     },
     "execution_count": 5,
     "metadata": {},
     "output_type": "execute_result"
    }
   ],
   "source": [
    "# This a simple arithmetic expression to mutiply then add integers\n",
    "a = 3\n",
    "b = 4\n",
    "result = (a * b) + 5\n",
    "result"
   ]
  },
  {
   "cell_type": "code",
   "execution_count": 6,
   "id": "158e9b66",
   "metadata": {},
   "outputs": [
    {
     "data": {
      "text/plain": [
       "3.3333333333333335"
      ]
     },
     "execution_count": 6,
     "metadata": {},
     "output_type": "execute_result"
    }
   ],
   "source": [
    "# This will convert 200 minutes to hours by diving by 60\n",
    "minutes = 200\n",
    "hours = minutes / 60\n",
    "hours"
   ]
  },
  {
   "cell_type": "markdown",
   "id": "9daff3a6",
   "metadata": {},
   "source": [
    "## Author\n",
    "\n",
    "Bento Barbosa"
   ]
  },
  {
   "cell_type": "code",
   "execution_count": null,
   "id": "678d8ca5",
   "metadata": {},
   "outputs": [],
   "source": []
  }
 ],
 "metadata": {
  "kernelspec": {
   "display_name": "Python 3 (ipykernel)",
   "language": "python",
   "name": "python3"
  },
  "language_info": {
   "codemirror_mode": {
    "name": "ipython",
    "version": 3
   },
   "file_extension": ".py",
   "mimetype": "text/x-python",
   "name": "python",
   "nbconvert_exporter": "python",
   "pygments_lexer": "ipython3",
   "version": "3.9.13"
  }
 },
 "nbformat": 4,
 "nbformat_minor": 5
}
